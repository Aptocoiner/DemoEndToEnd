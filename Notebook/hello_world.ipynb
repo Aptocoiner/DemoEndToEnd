{
 "cells": [
  {
   "cell_type": "code",
   "execution_count": null,
   "id": "1f3f3d3f",
   "metadata": {
    "vscode": {
     "languageId": "plaintext"
    }
   },
   "outputs": [],
   "source": [
    "{\n",
    " \"cells\": [\n",
    "  {\n",
    "   \"cell_type\": \"code\",\n",
    "   \"source\": [\"print('Hello from Fabric Notebook')\"],\n",
    "   \"metadata\": {},\n",
    "   \"outputs\": [],\n",
    "   \"execution_count\": null\n",
    "  }\n",
    " ],\n",
    " \"metadata\": {},\n",
    " \"nbformat\": 4,\n",
    " \"nbformat_minor\": 2\n",
    "}\n"
   ]
  }
 ],
 "metadata": {
  "language_info": {
   "name": "python"
  }
 },
 "nbformat": 4,
 "nbformat_minor": 5
}
